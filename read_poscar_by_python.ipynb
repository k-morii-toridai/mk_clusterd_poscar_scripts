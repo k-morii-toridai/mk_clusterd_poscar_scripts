{
 "cells": [
  {
   "cell_type": "markdown",
   "metadata": {},
   "source": [
    "### python3のバージョンを確認"
   ]
  },
  {
   "cell_type": "code",
   "execution_count": 1,
   "metadata": {
    "tags": []
   },
   "outputs": [
    {
     "name": "stdout",
     "output_type": "stream",
     "text": [
      "/usr/bin/python3\n"
     ]
    }
   ],
   "source": [
    "!which python3"
   ]
  },
  {
   "cell_type": "code",
   "execution_count": 49,
   "metadata": {},
   "outputs": [],
   "source": [
    "# 自動でモジュールをリロードする\n",
    "%load_ext autoreload\n",
    "%autoreload 2"
   ]
  },
  {
   "cell_type": "markdown",
   "metadata": {},
   "source": [
    "### packageからVESTAを読みだす"
   ]
  },
  {
   "cell_type": "code",
   "execution_count": 2,
   "metadata": {
    "tags": []
   },
   "outputs": [],
   "source": [
    "from my_package import visualize"
   ]
  },
  {
   "cell_type": "markdown",
   "metadata": {},
   "source": [
    "### ASEでPOSCARファイルを可視化"
   ]
  },
  {
   "cell_type": "code",
   "execution_count": 6,
   "metadata": {},
   "outputs": [
    {
     "name": "stdout",
     "output_type": "stream",
     "text": [
      "Collecting nglview\n",
      "  Downloading nglview-3.0.8.tar.gz (6.8 MB)\n",
      "\u001b[K     |████████████████████████████████| 6.8 MB 3.3 MB/s eta 0:00:01\n",
      "\u001b[?25h  Installing build dependencies ... \u001b[?25ldone\n",
      "\u001b[?25h  Getting requirements to build wheel ... \u001b[?25ldone\n",
      "\u001b[?25h    Preparing wheel metadata ... \u001b[?25ldone\n",
      "\u001b[?25hCollecting ipywidgets>=7\n",
      "  Downloading ipywidgets-8.1.1-py3-none-any.whl (139 kB)\n",
      "\u001b[K     |████████████████████████████████| 139 kB 53.3 MB/s eta 0:00:01\n",
      "\u001b[?25hCollecting jupyterlab-widgets\n",
      "  Downloading jupyterlab_widgets-3.0.9-py3-none-any.whl (214 kB)\n",
      "\u001b[K     |████████████████████████████████| 214 kB 47.3 MB/s eta 0:00:01\n",
      "\u001b[?25hRequirement already satisfied: numpy in /home/morii_k/.local/lib/python3.8/site-packages (from nglview) (1.24.1)\n",
      "Requirement already satisfied: ipython>=6.1.0 in /usr/lib/python3/dist-packages (from ipywidgets>=7->nglview) (7.13.0)\n",
      "Collecting widgetsnbextension~=4.0.9\n",
      "  Downloading widgetsnbextension-4.0.9-py3-none-any.whl (2.3 MB)\n",
      "\u001b[K     |████████████████████████████████| 2.3 MB 52.6 MB/s eta 0:00:01\n",
      "\u001b[?25hRequirement already satisfied: traitlets>=4.3.1 in /home/morii_k/.local/lib/python3.8/site-packages (from ipywidgets>=7->nglview) (5.9.0)\n",
      "Collecting comm>=0.1.3\n",
      "  Downloading comm-0.1.4-py3-none-any.whl (6.6 kB)\n",
      "Requirement already satisfied: pexpect in /usr/lib/python3/dist-packages (from ipython>=6.1.0->ipywidgets>=7->nglview) (4.6.0)\n",
      "Building wheels for collected packages: nglview\n",
      "  Building wheel for nglview (PEP 517) ... \u001b[?25ldone\n",
      "\u001b[?25h  Created wheel for nglview: filename=nglview-3.0.8-py3-none-any.whl size=10216160 sha256=8291a565dcbf7eaa944d7d19c2ef12014c99123efbd2f608de6e3e82979a45e6\n",
      "  Stored in directory: /home/morii_k/.cache/pip/wheels/db/16/5f/34da9789fd7a0e47955e34883da906a8725e83731a9dcf6dfb\n",
      "Successfully built nglview\n",
      "Installing collected packages: widgetsnbextension, jupyterlab-widgets, comm, ipywidgets, nglview\n",
      "Successfully installed comm-0.1.4 ipywidgets-8.1.1 jupyterlab-widgets-3.0.9 nglview-3.0.8 widgetsnbextension-4.0.9\n"
     ]
    }
   ],
   "source": [
    "!pip install nglview"
   ]
  },
  {
   "cell_type": "code",
   "execution_count": 7,
   "metadata": {},
   "outputs": [
    {
     "data": {
      "application/vnd.jupyter.widget-view+json": {
       "model_id": "a7cc4a06e6c14532adff9136fbce36f2",
       "version_major": 2,
       "version_minor": 0
      },
      "text/plain": []
     },
     "metadata": {},
     "output_type": "display_data"
    }
   ],
   "source": [
    "import nglview"
   ]
  },
  {
   "cell_type": "code",
   "execution_count": 8,
   "metadata": {},
   "outputs": [
    {
     "data": {
      "text/plain": [
       "'/home/morii_k/.local/lib/python3.8/site-packages/nglview/__init__.py'"
      ]
     },
     "execution_count": 8,
     "metadata": {},
     "output_type": "execute_result"
    }
   ],
   "source": [
    "nglview.__file__"
   ]
  },
  {
   "cell_type": "code",
   "execution_count": 12,
   "metadata": {},
   "outputs": [],
   "source": [
    "import ase"
   ]
  },
  {
   "cell_type": "code",
   "execution_count": 13,
   "metadata": {},
   "outputs": [
    {
     "data": {
      "text/plain": [
       "'/home/morii_k/.local/lib/python3.8/site-packages/ase/__init__.py'"
      ]
     },
     "execution_count": 13,
     "metadata": {},
     "output_type": "execute_result"
    }
   ],
   "source": [
    "ase.__file__"
   ]
  },
  {
   "cell_type": "code",
   "execution_count": 14,
   "metadata": {
    "tags": []
   },
   "outputs": [
    {
     "data": {
      "application/vnd.jupyter.widget-view+json": {
       "model_id": "a9079e21f8e24a8ea9e3a365994e7713",
       "version_major": 2,
       "version_minor": 0
      },
      "text/plain": [
       "HBox(children=(NGLWidget(), VBox(children=(Dropdown(description='Show', options=('All', 'Ba', 'C', 'O'), value…"
      ]
     },
     "execution_count": 14,
     "metadata": {},
     "output_type": "execute_result"
    }
   ],
   "source": [
    "from ase.io import read, write\n",
    "# POSCARファイルの読み込み\n",
    "atoms = read('POSCAR')\n",
    "\n",
    "# POSCARファイルの描画\n",
    "from ase.visualize import view, ngl\n",
    "ngl.view_ngl(atoms)"
   ]
  },
  {
   "cell_type": "markdown",
   "metadata": {},
   "source": [
    "### Converting a POSCAR file to a DataFrame"
   ]
  },
  {
   "cell_type": "code",
   "execution_count": 15,
   "metadata": {
    "tags": []
   },
   "outputs": [
    {
     "data": {
      "text/html": [
       "<div>\n",
       "<style scoped>\n",
       "    .dataframe tbody tr th:only-of-type {\n",
       "        vertical-align: middle;\n",
       "    }\n",
       "\n",
       "    .dataframe tbody tr th {\n",
       "        vertical-align: top;\n",
       "    }\n",
       "\n",
       "    .dataframe thead th {\n",
       "        text-align: right;\n",
       "    }\n",
       "</style>\n",
       "<table border=\"1\" class=\"dataframe\">\n",
       "  <thead>\n",
       "    <tr style=\"text-align: right;\">\n",
       "      <th></th>\n",
       "      <th>central atom</th>\n",
       "      <th>x</th>\n",
       "      <th>y</th>\n",
       "      <th>z</th>\n",
       "      <th>Species</th>\n",
       "    </tr>\n",
       "  </thead>\n",
       "  <tbody>\n",
       "    <tr>\n",
       "      <th>0</th>\n",
       "      <td>1</td>\n",
       "      <td>0.250000000000000</td>\n",
       "      <td>0.757000000000000</td>\n",
       "      <td>0.919000000000000</td>\n",
       "      <td>C</td>\n",
       "    </tr>\n",
       "    <tr>\n",
       "      <th>1</th>\n",
       "      <td>2</td>\n",
       "      <td>0.250000000000000</td>\n",
       "      <td>0.743000000000000</td>\n",
       "      <td>0.419000000000000</td>\n",
       "      <td>C</td>\n",
       "    </tr>\n",
       "    <tr>\n",
       "      <th>2</th>\n",
       "      <td>3</td>\n",
       "      <td>0.750000000000000</td>\n",
       "      <td>0.243000000000000</td>\n",
       "      <td>0.081000000000000</td>\n",
       "      <td>C</td>\n",
       "    </tr>\n",
       "    <tr>\n",
       "      <th>3</th>\n",
       "      <td>4</td>\n",
       "      <td>0.750000000000000</td>\n",
       "      <td>0.257000000000000</td>\n",
       "      <td>0.581000000000000</td>\n",
       "      <td>C</td>\n",
       "    </tr>\n",
       "    <tr>\n",
       "      <th>4</th>\n",
       "      <td>5</td>\n",
       "      <td>0.250000000000000</td>\n",
       "      <td>0.416310000000000</td>\n",
       "      <td>0.754900000000000</td>\n",
       "      <td>Ba</td>\n",
       "    </tr>\n",
       "    <tr>\n",
       "      <th>5</th>\n",
       "      <td>6</td>\n",
       "      <td>0.250000000000000</td>\n",
       "      <td>0.083690000000000</td>\n",
       "      <td>0.254900000000000</td>\n",
       "      <td>Ba</td>\n",
       "    </tr>\n",
       "    <tr>\n",
       "      <th>6</th>\n",
       "      <td>7</td>\n",
       "      <td>0.750000000000000</td>\n",
       "      <td>0.583690000000000</td>\n",
       "      <td>0.245100000000000</td>\n",
       "      <td>Ba</td>\n",
       "    </tr>\n",
       "    <tr>\n",
       "      <th>7</th>\n",
       "      <td>8</td>\n",
       "      <td>0.750000000000000</td>\n",
       "      <td>0.916310000000000</td>\n",
       "      <td>0.745100000000000</td>\n",
       "      <td>Ba</td>\n",
       "    </tr>\n",
       "    <tr>\n",
       "      <th>8</th>\n",
       "      <td>9</td>\n",
       "      <td>0.250000000000000</td>\n",
       "      <td>0.901100000000000</td>\n",
       "      <td>0.912200000000000</td>\n",
       "      <td>O</td>\n",
       "    </tr>\n",
       "    <tr>\n",
       "      <th>9</th>\n",
       "      <td>10</td>\n",
       "      <td>0.250000000000000</td>\n",
       "      <td>0.598900000000000</td>\n",
       "      <td>0.412200000000000</td>\n",
       "      <td>O</td>\n",
       "    </tr>\n",
       "    <tr>\n",
       "      <th>10</th>\n",
       "      <td>11</td>\n",
       "      <td>0.750000000000000</td>\n",
       "      <td>0.098900000000000</td>\n",
       "      <td>0.087800000000000</td>\n",
       "      <td>O</td>\n",
       "    </tr>\n",
       "    <tr>\n",
       "      <th>11</th>\n",
       "      <td>12</td>\n",
       "      <td>0.750000000000000</td>\n",
       "      <td>0.401100000000000</td>\n",
       "      <td>0.587800000000000</td>\n",
       "      <td>O</td>\n",
       "    </tr>\n",
       "    <tr>\n",
       "      <th>12</th>\n",
       "      <td>13</td>\n",
       "      <td>0.459500000000000</td>\n",
       "      <td>0.683900000000000</td>\n",
       "      <td>0.921000000000000</td>\n",
       "      <td>O</td>\n",
       "    </tr>\n",
       "    <tr>\n",
       "      <th>13</th>\n",
       "      <td>14</td>\n",
       "      <td>0.040500000000000</td>\n",
       "      <td>0.816100000000000</td>\n",
       "      <td>0.421000000000000</td>\n",
       "      <td>O</td>\n",
       "    </tr>\n",
       "    <tr>\n",
       "      <th>14</th>\n",
       "      <td>15</td>\n",
       "      <td>0.540500000000000</td>\n",
       "      <td>0.316100000000000</td>\n",
       "      <td>0.079000000000000</td>\n",
       "      <td>O</td>\n",
       "    </tr>\n",
       "    <tr>\n",
       "      <th>15</th>\n",
       "      <td>16</td>\n",
       "      <td>0.040500000000000</td>\n",
       "      <td>0.683900000000000</td>\n",
       "      <td>0.921000000000000</td>\n",
       "      <td>O</td>\n",
       "    </tr>\n",
       "    <tr>\n",
       "      <th>16</th>\n",
       "      <td>17</td>\n",
       "      <td>0.459500000000000</td>\n",
       "      <td>0.816100000000000</td>\n",
       "      <td>0.421000000000000</td>\n",
       "      <td>O</td>\n",
       "    </tr>\n",
       "    <tr>\n",
       "      <th>17</th>\n",
       "      <td>18</td>\n",
       "      <td>0.959500000000000</td>\n",
       "      <td>0.183900000000000</td>\n",
       "      <td>0.579000000000000</td>\n",
       "      <td>O</td>\n",
       "    </tr>\n",
       "    <tr>\n",
       "      <th>18</th>\n",
       "      <td>19</td>\n",
       "      <td>0.959500000000000</td>\n",
       "      <td>0.316100000000000</td>\n",
       "      <td>0.079000000000000</td>\n",
       "      <td>O</td>\n",
       "    </tr>\n",
       "    <tr>\n",
       "      <th>19</th>\n",
       "      <td>20</td>\n",
       "      <td>0.540500000000000</td>\n",
       "      <td>0.183900000000000</td>\n",
       "      <td>0.579000000000000</td>\n",
       "      <td>O</td>\n",
       "    </tr>\n",
       "  </tbody>\n",
       "</table>\n",
       "</div>"
      ],
      "text/plain": [
       "    central atom                  x                  y                  z  \\\n",
       "0              1  0.250000000000000  0.757000000000000  0.919000000000000   \n",
       "1              2  0.250000000000000  0.743000000000000  0.419000000000000   \n",
       "2              3  0.750000000000000  0.243000000000000  0.081000000000000   \n",
       "3              4  0.750000000000000  0.257000000000000  0.581000000000000   \n",
       "4              5  0.250000000000000  0.416310000000000  0.754900000000000   \n",
       "5              6  0.250000000000000  0.083690000000000  0.254900000000000   \n",
       "6              7  0.750000000000000  0.583690000000000  0.245100000000000   \n",
       "7              8  0.750000000000000  0.916310000000000  0.745100000000000   \n",
       "8              9  0.250000000000000  0.901100000000000  0.912200000000000   \n",
       "9             10  0.250000000000000  0.598900000000000  0.412200000000000   \n",
       "10            11  0.750000000000000  0.098900000000000  0.087800000000000   \n",
       "11            12  0.750000000000000  0.401100000000000  0.587800000000000   \n",
       "12            13  0.459500000000000  0.683900000000000  0.921000000000000   \n",
       "13            14  0.040500000000000  0.816100000000000  0.421000000000000   \n",
       "14            15  0.540500000000000  0.316100000000000  0.079000000000000   \n",
       "15            16  0.040500000000000  0.683900000000000  0.921000000000000   \n",
       "16            17  0.459500000000000  0.816100000000000  0.421000000000000   \n",
       "17            18  0.959500000000000  0.183900000000000  0.579000000000000   \n",
       "18            19  0.959500000000000  0.316100000000000  0.079000000000000   \n",
       "19            20  0.540500000000000  0.183900000000000  0.579000000000000   \n",
       "\n",
       "   Species  \n",
       "0        C  \n",
       "1        C  \n",
       "2        C  \n",
       "3        C  \n",
       "4       Ba  \n",
       "5       Ba  \n",
       "6       Ba  \n",
       "7       Ba  \n",
       "8        O  \n",
       "9        O  \n",
       "10       O  \n",
       "11       O  \n",
       "12       O  \n",
       "13       O  \n",
       "14       O  \n",
       "15       O  \n",
       "16       O  \n",
       "17       O  \n",
       "18       O  \n",
       "19       O  "
      ]
     },
     "execution_count": 15,
     "metadata": {},
     "output_type": "execute_result"
    }
   ],
   "source": [
    "from my_package.textfile2df import poscar2df_coords \n",
    "\n",
    "df_coords = poscar2df_coords(filename='./POSCAR')\n",
    "df_coords"
   ]
  },
  {
   "cell_type": "markdown",
   "metadata": {},
   "source": [
    "### converting POSCAR.nnlist to df_nnlist"
   ]
  },
  {
   "cell_type": "code",
   "execution_count": 16,
   "metadata": {
    "tags": []
   },
   "outputs": [
    {
     "data": {
      "text/html": [
       "<div>\n",
       "<style scoped>\n",
       "    .dataframe tbody tr th:only-of-type {\n",
       "        vertical-align: middle;\n",
       "    }\n",
       "\n",
       "    .dataframe tbody tr th {\n",
       "        vertical-align: top;\n",
       "    }\n",
       "\n",
       "    .dataframe thead th {\n",
       "        text-align: right;\n",
       "    }\n",
       "</style>\n",
       "<table border=\"1\" class=\"dataframe\">\n",
       "  <thead>\n",
       "    <tr style=\"text-align: right;\">\n",
       "      <th></th>\n",
       "      <th>central atom</th>\n",
       "      <th>neighboring atom</th>\n",
       "      <th>distance</th>\n",
       "      <th>X</th>\n",
       "      <th>Y</th>\n",
       "      <th>Z</th>\n",
       "      <th>unitcell_x</th>\n",
       "      <th>unitcell_y</th>\n",
       "      <th>unitcell_z</th>\n",
       "      <th>central species</th>\n",
       "      <th>neighboring species</th>\n",
       "    </tr>\n",
       "  </thead>\n",
       "  <tbody>\n",
       "    <tr>\n",
       "      <th>0</th>\n",
       "      <td>1</td>\n",
       "      <td>1</td>\n",
       "      <td>0.000000</td>\n",
       "      <td>0.000000</td>\n",
       "      <td>0.000000</td>\n",
       "      <td>0.000000</td>\n",
       "      <td>0</td>\n",
       "      <td>0</td>\n",
       "      <td>0</td>\n",
       "      <td>C</td>\n",
       "      <td>C</td>\n",
       "    </tr>\n",
       "    <tr>\n",
       "      <th>1</th>\n",
       "      <td>1</td>\n",
       "      <td>9</td>\n",
       "      <td>1.282630</td>\n",
       "      <td>0.000000</td>\n",
       "      <td>1.281885</td>\n",
       "      <td>-0.043713</td>\n",
       "      <td>0</td>\n",
       "      <td>0</td>\n",
       "      <td>0</td>\n",
       "      <td>C</td>\n",
       "      <td>O</td>\n",
       "    </tr>\n",
       "    <tr>\n",
       "      <th>2</th>\n",
       "      <td>1</td>\n",
       "      <td>13</td>\n",
       "      <td>1.289100</td>\n",
       "      <td>1.112990</td>\n",
       "      <td>-0.650283</td>\n",
       "      <td>0.012857</td>\n",
       "      <td>0</td>\n",
       "      <td>0</td>\n",
       "      <td>0</td>\n",
       "      <td>C</td>\n",
       "      <td>O</td>\n",
       "    </tr>\n",
       "    <tr>\n",
       "      <th>3</th>\n",
       "      <td>1</td>\n",
       "      <td>16</td>\n",
       "      <td>1.289100</td>\n",
       "      <td>-1.112990</td>\n",
       "      <td>-0.650283</td>\n",
       "      <td>0.012857</td>\n",
       "      <td>0</td>\n",
       "      <td>0</td>\n",
       "      <td>0</td>\n",
       "      <td>C</td>\n",
       "      <td>O</td>\n",
       "    </tr>\n",
       "    <tr>\n",
       "      <th>4</th>\n",
       "      <td>2</td>\n",
       "      <td>2</td>\n",
       "      <td>0.000000</td>\n",
       "      <td>0.000000</td>\n",
       "      <td>0.000000</td>\n",
       "      <td>0.000000</td>\n",
       "      <td>0</td>\n",
       "      <td>0</td>\n",
       "      <td>0</td>\n",
       "      <td>C</td>\n",
       "      <td>C</td>\n",
       "    </tr>\n",
       "    <tr>\n",
       "      <th>5</th>\n",
       "      <td>2</td>\n",
       "      <td>10</td>\n",
       "      <td>1.282630</td>\n",
       "      <td>0.000000</td>\n",
       "      <td>-1.281885</td>\n",
       "      <td>-0.043713</td>\n",
       "      <td>0</td>\n",
       "      <td>0</td>\n",
       "      <td>0</td>\n",
       "      <td>C</td>\n",
       "      <td>O</td>\n",
       "    </tr>\n",
       "    <tr>\n",
       "      <th>6</th>\n",
       "      <td>2</td>\n",
       "      <td>14</td>\n",
       "      <td>1.289100</td>\n",
       "      <td>-1.112990</td>\n",
       "      <td>0.650283</td>\n",
       "      <td>0.012857</td>\n",
       "      <td>0</td>\n",
       "      <td>0</td>\n",
       "      <td>0</td>\n",
       "      <td>C</td>\n",
       "      <td>O</td>\n",
       "    </tr>\n",
       "    <tr>\n",
       "      <th>7</th>\n",
       "      <td>2</td>\n",
       "      <td>17</td>\n",
       "      <td>1.289100</td>\n",
       "      <td>1.112990</td>\n",
       "      <td>0.650283</td>\n",
       "      <td>0.012857</td>\n",
       "      <td>0</td>\n",
       "      <td>0</td>\n",
       "      <td>0</td>\n",
       "      <td>C</td>\n",
       "      <td>O</td>\n",
       "    </tr>\n",
       "    <tr>\n",
       "      <th>8</th>\n",
       "      <td>3</td>\n",
       "      <td>3</td>\n",
       "      <td>0.000000</td>\n",
       "      <td>0.000000</td>\n",
       "      <td>0.000000</td>\n",
       "      <td>0.000000</td>\n",
       "      <td>0</td>\n",
       "      <td>0</td>\n",
       "      <td>0</td>\n",
       "      <td>C</td>\n",
       "      <td>C</td>\n",
       "    </tr>\n",
       "    <tr>\n",
       "      <th>9</th>\n",
       "      <td>3</td>\n",
       "      <td>11</td>\n",
       "      <td>1.282630</td>\n",
       "      <td>0.000000</td>\n",
       "      <td>-1.281885</td>\n",
       "      <td>0.043713</td>\n",
       "      <td>0</td>\n",
       "      <td>0</td>\n",
       "      <td>0</td>\n",
       "      <td>C</td>\n",
       "      <td>O</td>\n",
       "    </tr>\n",
       "    <tr>\n",
       "      <th>10</th>\n",
       "      <td>3</td>\n",
       "      <td>15</td>\n",
       "      <td>1.289100</td>\n",
       "      <td>-1.112990</td>\n",
       "      <td>0.650283</td>\n",
       "      <td>-0.012857</td>\n",
       "      <td>0</td>\n",
       "      <td>0</td>\n",
       "      <td>0</td>\n",
       "      <td>C</td>\n",
       "      <td>O</td>\n",
       "    </tr>\n",
       "    <tr>\n",
       "      <th>11</th>\n",
       "      <td>3</td>\n",
       "      <td>19</td>\n",
       "      <td>1.289100</td>\n",
       "      <td>1.112990</td>\n",
       "      <td>0.650283</td>\n",
       "      <td>-0.012857</td>\n",
       "      <td>0</td>\n",
       "      <td>0</td>\n",
       "      <td>0</td>\n",
       "      <td>C</td>\n",
       "      <td>O</td>\n",
       "    </tr>\n",
       "    <tr>\n",
       "      <th>12</th>\n",
       "      <td>4</td>\n",
       "      <td>4</td>\n",
       "      <td>0.000000</td>\n",
       "      <td>0.000000</td>\n",
       "      <td>0.000000</td>\n",
       "      <td>0.000000</td>\n",
       "      <td>0</td>\n",
       "      <td>0</td>\n",
       "      <td>0</td>\n",
       "      <td>C</td>\n",
       "      <td>C</td>\n",
       "    </tr>\n",
       "    <tr>\n",
       "      <th>13</th>\n",
       "      <td>4</td>\n",
       "      <td>12</td>\n",
       "      <td>1.282630</td>\n",
       "      <td>0.000000</td>\n",
       "      <td>1.281885</td>\n",
       "      <td>0.043713</td>\n",
       "      <td>0</td>\n",
       "      <td>0</td>\n",
       "      <td>0</td>\n",
       "      <td>C</td>\n",
       "      <td>O</td>\n",
       "    </tr>\n",
       "    <tr>\n",
       "      <th>14</th>\n",
       "      <td>4</td>\n",
       "      <td>18</td>\n",
       "      <td>1.289100</td>\n",
       "      <td>1.112990</td>\n",
       "      <td>-0.650283</td>\n",
       "      <td>-0.012857</td>\n",
       "      <td>0</td>\n",
       "      <td>0</td>\n",
       "      <td>0</td>\n",
       "      <td>C</td>\n",
       "      <td>O</td>\n",
       "    </tr>\n",
       "    <tr>\n",
       "      <th>15</th>\n",
       "      <td>4</td>\n",
       "      <td>20</td>\n",
       "      <td>1.289100</td>\n",
       "      <td>-1.112990</td>\n",
       "      <td>-0.650283</td>\n",
       "      <td>-0.012857</td>\n",
       "      <td>0</td>\n",
       "      <td>0</td>\n",
       "      <td>0</td>\n",
       "      <td>C</td>\n",
       "      <td>O</td>\n",
       "    </tr>\n",
       "    <tr>\n",
       "      <th>16</th>\n",
       "      <td>5</td>\n",
       "      <td>5</td>\n",
       "      <td>0.000000</td>\n",
       "      <td>0.000000</td>\n",
       "      <td>0.000000</td>\n",
       "      <td>0.000000</td>\n",
       "      <td>0</td>\n",
       "      <td>0</td>\n",
       "      <td>0</td>\n",
       "      <td>Ba</td>\n",
       "      <td>Ba</td>\n",
       "    </tr>\n",
       "    <tr>\n",
       "      <th>17</th>\n",
       "      <td>6</td>\n",
       "      <td>6</td>\n",
       "      <td>0.000000</td>\n",
       "      <td>0.000000</td>\n",
       "      <td>0.000000</td>\n",
       "      <td>0.000000</td>\n",
       "      <td>0</td>\n",
       "      <td>0</td>\n",
       "      <td>0</td>\n",
       "      <td>Ba</td>\n",
       "      <td>Ba</td>\n",
       "    </tr>\n",
       "    <tr>\n",
       "      <th>18</th>\n",
       "      <td>7</td>\n",
       "      <td>7</td>\n",
       "      <td>0.000000</td>\n",
       "      <td>0.000000</td>\n",
       "      <td>0.000000</td>\n",
       "      <td>0.000000</td>\n",
       "      <td>0</td>\n",
       "      <td>0</td>\n",
       "      <td>0</td>\n",
       "      <td>Ba</td>\n",
       "      <td>Ba</td>\n",
       "    </tr>\n",
       "    <tr>\n",
       "      <th>19</th>\n",
       "      <td>8</td>\n",
       "      <td>8</td>\n",
       "      <td>0.000000</td>\n",
       "      <td>0.000000</td>\n",
       "      <td>0.000000</td>\n",
       "      <td>0.000000</td>\n",
       "      <td>0</td>\n",
       "      <td>0</td>\n",
       "      <td>0</td>\n",
       "      <td>Ba</td>\n",
       "      <td>Ba</td>\n",
       "    </tr>\n",
       "    <tr>\n",
       "      <th>20</th>\n",
       "      <td>9</td>\n",
       "      <td>1</td>\n",
       "      <td>1.282630</td>\n",
       "      <td>0.000000</td>\n",
       "      <td>-1.281885</td>\n",
       "      <td>0.043713</td>\n",
       "      <td>0</td>\n",
       "      <td>0</td>\n",
       "      <td>0</td>\n",
       "      <td>O</td>\n",
       "      <td>C</td>\n",
       "    </tr>\n",
       "    <tr>\n",
       "      <th>21</th>\n",
       "      <td>9</td>\n",
       "      <td>9</td>\n",
       "      <td>0.000000</td>\n",
       "      <td>0.000000</td>\n",
       "      <td>0.000000</td>\n",
       "      <td>0.000000</td>\n",
       "      <td>0</td>\n",
       "      <td>0</td>\n",
       "      <td>0</td>\n",
       "      <td>O</td>\n",
       "      <td>O</td>\n",
       "    </tr>\n",
       "    <tr>\n",
       "      <th>22</th>\n",
       "      <td>10</td>\n",
       "      <td>2</td>\n",
       "      <td>1.282630</td>\n",
       "      <td>0.000000</td>\n",
       "      <td>1.281885</td>\n",
       "      <td>0.043713</td>\n",
       "      <td>0</td>\n",
       "      <td>0</td>\n",
       "      <td>0</td>\n",
       "      <td>O</td>\n",
       "      <td>C</td>\n",
       "    </tr>\n",
       "    <tr>\n",
       "      <th>23</th>\n",
       "      <td>10</td>\n",
       "      <td>10</td>\n",
       "      <td>0.000000</td>\n",
       "      <td>0.000000</td>\n",
       "      <td>0.000000</td>\n",
       "      <td>0.000000</td>\n",
       "      <td>0</td>\n",
       "      <td>0</td>\n",
       "      <td>0</td>\n",
       "      <td>O</td>\n",
       "      <td>O</td>\n",
       "    </tr>\n",
       "    <tr>\n",
       "      <th>24</th>\n",
       "      <td>11</td>\n",
       "      <td>3</td>\n",
       "      <td>1.282630</td>\n",
       "      <td>0.000000</td>\n",
       "      <td>1.281885</td>\n",
       "      <td>-0.043713</td>\n",
       "      <td>0</td>\n",
       "      <td>0</td>\n",
       "      <td>0</td>\n",
       "      <td>O</td>\n",
       "      <td>C</td>\n",
       "    </tr>\n",
       "    <tr>\n",
       "      <th>25</th>\n",
       "      <td>11</td>\n",
       "      <td>11</td>\n",
       "      <td>0.000000</td>\n",
       "      <td>0.000000</td>\n",
       "      <td>0.000000</td>\n",
       "      <td>0.000000</td>\n",
       "      <td>0</td>\n",
       "      <td>0</td>\n",
       "      <td>0</td>\n",
       "      <td>O</td>\n",
       "      <td>O</td>\n",
       "    </tr>\n",
       "    <tr>\n",
       "      <th>26</th>\n",
       "      <td>12</td>\n",
       "      <td>4</td>\n",
       "      <td>1.282630</td>\n",
       "      <td>0.000000</td>\n",
       "      <td>-1.281885</td>\n",
       "      <td>-0.043713</td>\n",
       "      <td>0</td>\n",
       "      <td>0</td>\n",
       "      <td>0</td>\n",
       "      <td>O</td>\n",
       "      <td>C</td>\n",
       "    </tr>\n",
       "    <tr>\n",
       "      <th>27</th>\n",
       "      <td>12</td>\n",
       "      <td>12</td>\n",
       "      <td>0.000000</td>\n",
       "      <td>0.000000</td>\n",
       "      <td>0.000000</td>\n",
       "      <td>0.000000</td>\n",
       "      <td>0</td>\n",
       "      <td>0</td>\n",
       "      <td>0</td>\n",
       "      <td>O</td>\n",
       "      <td>O</td>\n",
       "    </tr>\n",
       "    <tr>\n",
       "      <th>28</th>\n",
       "      <td>13</td>\n",
       "      <td>1</td>\n",
       "      <td>1.289100</td>\n",
       "      <td>-1.112990</td>\n",
       "      <td>0.650283</td>\n",
       "      <td>-0.012857</td>\n",
       "      <td>0</td>\n",
       "      <td>0</td>\n",
       "      <td>0</td>\n",
       "      <td>O</td>\n",
       "      <td>C</td>\n",
       "    </tr>\n",
       "    <tr>\n",
       "      <th>29</th>\n",
       "      <td>13</td>\n",
       "      <td>13</td>\n",
       "      <td>0.000000</td>\n",
       "      <td>0.000000</td>\n",
       "      <td>0.000000</td>\n",
       "      <td>0.000000</td>\n",
       "      <td>0</td>\n",
       "      <td>0</td>\n",
       "      <td>0</td>\n",
       "      <td>O</td>\n",
       "      <td>O</td>\n",
       "    </tr>\n",
       "    <tr>\n",
       "      <th>30</th>\n",
       "      <td>14</td>\n",
       "      <td>2</td>\n",
       "      <td>1.289100</td>\n",
       "      <td>1.112990</td>\n",
       "      <td>-0.650283</td>\n",
       "      <td>-0.012857</td>\n",
       "      <td>0</td>\n",
       "      <td>0</td>\n",
       "      <td>0</td>\n",
       "      <td>O</td>\n",
       "      <td>C</td>\n",
       "    </tr>\n",
       "    <tr>\n",
       "      <th>31</th>\n",
       "      <td>14</td>\n",
       "      <td>14</td>\n",
       "      <td>0.000000</td>\n",
       "      <td>0.000000</td>\n",
       "      <td>0.000000</td>\n",
       "      <td>0.000000</td>\n",
       "      <td>0</td>\n",
       "      <td>0</td>\n",
       "      <td>0</td>\n",
       "      <td>O</td>\n",
       "      <td>O</td>\n",
       "    </tr>\n",
       "    <tr>\n",
       "      <th>32</th>\n",
       "      <td>15</td>\n",
       "      <td>3</td>\n",
       "      <td>1.289100</td>\n",
       "      <td>1.112990</td>\n",
       "      <td>-0.650283</td>\n",
       "      <td>0.012857</td>\n",
       "      <td>0</td>\n",
       "      <td>0</td>\n",
       "      <td>0</td>\n",
       "      <td>O</td>\n",
       "      <td>C</td>\n",
       "    </tr>\n",
       "    <tr>\n",
       "      <th>33</th>\n",
       "      <td>15</td>\n",
       "      <td>15</td>\n",
       "      <td>0.000000</td>\n",
       "      <td>0.000000</td>\n",
       "      <td>0.000000</td>\n",
       "      <td>0.000000</td>\n",
       "      <td>0</td>\n",
       "      <td>0</td>\n",
       "      <td>0</td>\n",
       "      <td>O</td>\n",
       "      <td>O</td>\n",
       "    </tr>\n",
       "    <tr>\n",
       "      <th>34</th>\n",
       "      <td>16</td>\n",
       "      <td>1</td>\n",
       "      <td>1.289100</td>\n",
       "      <td>1.112990</td>\n",
       "      <td>0.650283</td>\n",
       "      <td>-0.012857</td>\n",
       "      <td>0</td>\n",
       "      <td>0</td>\n",
       "      <td>0</td>\n",
       "      <td>O</td>\n",
       "      <td>C</td>\n",
       "    </tr>\n",
       "    <tr>\n",
       "      <th>35</th>\n",
       "      <td>16</td>\n",
       "      <td>16</td>\n",
       "      <td>0.000000</td>\n",
       "      <td>0.000000</td>\n",
       "      <td>0.000000</td>\n",
       "      <td>0.000000</td>\n",
       "      <td>0</td>\n",
       "      <td>0</td>\n",
       "      <td>0</td>\n",
       "      <td>O</td>\n",
       "      <td>O</td>\n",
       "    </tr>\n",
       "    <tr>\n",
       "      <th>36</th>\n",
       "      <td>17</td>\n",
       "      <td>2</td>\n",
       "      <td>1.289100</td>\n",
       "      <td>-1.112990</td>\n",
       "      <td>-0.650283</td>\n",
       "      <td>-0.012857</td>\n",
       "      <td>0</td>\n",
       "      <td>0</td>\n",
       "      <td>0</td>\n",
       "      <td>O</td>\n",
       "      <td>C</td>\n",
       "    </tr>\n",
       "    <tr>\n",
       "      <th>37</th>\n",
       "      <td>17</td>\n",
       "      <td>17</td>\n",
       "      <td>0.000000</td>\n",
       "      <td>0.000000</td>\n",
       "      <td>0.000000</td>\n",
       "      <td>0.000000</td>\n",
       "      <td>0</td>\n",
       "      <td>0</td>\n",
       "      <td>0</td>\n",
       "      <td>O</td>\n",
       "      <td>O</td>\n",
       "    </tr>\n",
       "    <tr>\n",
       "      <th>38</th>\n",
       "      <td>18</td>\n",
       "      <td>4</td>\n",
       "      <td>1.289100</td>\n",
       "      <td>-1.112990</td>\n",
       "      <td>0.650283</td>\n",
       "      <td>0.012857</td>\n",
       "      <td>0</td>\n",
       "      <td>0</td>\n",
       "      <td>0</td>\n",
       "      <td>O</td>\n",
       "      <td>C</td>\n",
       "    </tr>\n",
       "    <tr>\n",
       "      <th>39</th>\n",
       "      <td>18</td>\n",
       "      <td>18</td>\n",
       "      <td>0.000000</td>\n",
       "      <td>0.000000</td>\n",
       "      <td>0.000000</td>\n",
       "      <td>0.000000</td>\n",
       "      <td>0</td>\n",
       "      <td>0</td>\n",
       "      <td>0</td>\n",
       "      <td>O</td>\n",
       "      <td>O</td>\n",
       "    </tr>\n",
       "    <tr>\n",
       "      <th>40</th>\n",
       "      <td>19</td>\n",
       "      <td>3</td>\n",
       "      <td>1.289100</td>\n",
       "      <td>-1.112990</td>\n",
       "      <td>-0.650283</td>\n",
       "      <td>0.012857</td>\n",
       "      <td>0</td>\n",
       "      <td>0</td>\n",
       "      <td>0</td>\n",
       "      <td>O</td>\n",
       "      <td>C</td>\n",
       "    </tr>\n",
       "    <tr>\n",
       "      <th>41</th>\n",
       "      <td>19</td>\n",
       "      <td>19</td>\n",
       "      <td>0.000000</td>\n",
       "      <td>0.000000</td>\n",
       "      <td>0.000000</td>\n",
       "      <td>0.000000</td>\n",
       "      <td>0</td>\n",
       "      <td>0</td>\n",
       "      <td>0</td>\n",
       "      <td>O</td>\n",
       "      <td>O</td>\n",
       "    </tr>\n",
       "    <tr>\n",
       "      <th>42</th>\n",
       "      <td>20</td>\n",
       "      <td>4</td>\n",
       "      <td>1.289100</td>\n",
       "      <td>1.112990</td>\n",
       "      <td>0.650283</td>\n",
       "      <td>0.012857</td>\n",
       "      <td>0</td>\n",
       "      <td>0</td>\n",
       "      <td>0</td>\n",
       "      <td>O</td>\n",
       "      <td>C</td>\n",
       "    </tr>\n",
       "    <tr>\n",
       "      <th>43</th>\n",
       "      <td>20</td>\n",
       "      <td>20</td>\n",
       "      <td>0.000000</td>\n",
       "      <td>0.000000</td>\n",
       "      <td>0.000000</td>\n",
       "      <td>0.000000</td>\n",
       "      <td>0</td>\n",
       "      <td>0</td>\n",
       "      <td>0</td>\n",
       "      <td>O</td>\n",
       "      <td>O</td>\n",
       "    </tr>\n",
       "  </tbody>\n",
       "</table>\n",
       "</div>"
      ],
      "text/plain": [
       "    central atom  neighboring atom  distance         X         Y         Z  \\\n",
       "0              1                 1  0.000000  0.000000  0.000000  0.000000   \n",
       "1              1                 9  1.282630  0.000000  1.281885 -0.043713   \n",
       "2              1                13  1.289100  1.112990 -0.650283  0.012857   \n",
       "3              1                16  1.289100 -1.112990 -0.650283  0.012857   \n",
       "4              2                 2  0.000000  0.000000  0.000000  0.000000   \n",
       "5              2                10  1.282630  0.000000 -1.281885 -0.043713   \n",
       "6              2                14  1.289100 -1.112990  0.650283  0.012857   \n",
       "7              2                17  1.289100  1.112990  0.650283  0.012857   \n",
       "8              3                 3  0.000000  0.000000  0.000000  0.000000   \n",
       "9              3                11  1.282630  0.000000 -1.281885  0.043713   \n",
       "10             3                15  1.289100 -1.112990  0.650283 -0.012857   \n",
       "11             3                19  1.289100  1.112990  0.650283 -0.012857   \n",
       "12             4                 4  0.000000  0.000000  0.000000  0.000000   \n",
       "13             4                12  1.282630  0.000000  1.281885  0.043713   \n",
       "14             4                18  1.289100  1.112990 -0.650283 -0.012857   \n",
       "15             4                20  1.289100 -1.112990 -0.650283 -0.012857   \n",
       "16             5                 5  0.000000  0.000000  0.000000  0.000000   \n",
       "17             6                 6  0.000000  0.000000  0.000000  0.000000   \n",
       "18             7                 7  0.000000  0.000000  0.000000  0.000000   \n",
       "19             8                 8  0.000000  0.000000  0.000000  0.000000   \n",
       "20             9                 1  1.282630  0.000000 -1.281885  0.043713   \n",
       "21             9                 9  0.000000  0.000000  0.000000  0.000000   \n",
       "22            10                 2  1.282630  0.000000  1.281885  0.043713   \n",
       "23            10                10  0.000000  0.000000  0.000000  0.000000   \n",
       "24            11                 3  1.282630  0.000000  1.281885 -0.043713   \n",
       "25            11                11  0.000000  0.000000  0.000000  0.000000   \n",
       "26            12                 4  1.282630  0.000000 -1.281885 -0.043713   \n",
       "27            12                12  0.000000  0.000000  0.000000  0.000000   \n",
       "28            13                 1  1.289100 -1.112990  0.650283 -0.012857   \n",
       "29            13                13  0.000000  0.000000  0.000000  0.000000   \n",
       "30            14                 2  1.289100  1.112990 -0.650283 -0.012857   \n",
       "31            14                14  0.000000  0.000000  0.000000  0.000000   \n",
       "32            15                 3  1.289100  1.112990 -0.650283  0.012857   \n",
       "33            15                15  0.000000  0.000000  0.000000  0.000000   \n",
       "34            16                 1  1.289100  1.112990  0.650283 -0.012857   \n",
       "35            16                16  0.000000  0.000000  0.000000  0.000000   \n",
       "36            17                 2  1.289100 -1.112990 -0.650283 -0.012857   \n",
       "37            17                17  0.000000  0.000000  0.000000  0.000000   \n",
       "38            18                 4  1.289100 -1.112990  0.650283  0.012857   \n",
       "39            18                18  0.000000  0.000000  0.000000  0.000000   \n",
       "40            19                 3  1.289100 -1.112990 -0.650283  0.012857   \n",
       "41            19                19  0.000000  0.000000  0.000000  0.000000   \n",
       "42            20                 4  1.289100  1.112990  0.650283  0.012857   \n",
       "43            20                20  0.000000  0.000000  0.000000  0.000000   \n",
       "\n",
       "    unitcell_x  unitcell_y  unitcell_z central species neighboring species  \n",
       "0            0           0           0               C                   C  \n",
       "1            0           0           0               C                   O  \n",
       "2            0           0           0               C                   O  \n",
       "3            0           0           0               C                   O  \n",
       "4            0           0           0               C                   C  \n",
       "5            0           0           0               C                   O  \n",
       "6            0           0           0               C                   O  \n",
       "7            0           0           0               C                   O  \n",
       "8            0           0           0               C                   C  \n",
       "9            0           0           0               C                   O  \n",
       "10           0           0           0               C                   O  \n",
       "11           0           0           0               C                   O  \n",
       "12           0           0           0               C                   C  \n",
       "13           0           0           0               C                   O  \n",
       "14           0           0           0               C                   O  \n",
       "15           0           0           0               C                   O  \n",
       "16           0           0           0              Ba                  Ba  \n",
       "17           0           0           0              Ba                  Ba  \n",
       "18           0           0           0              Ba                  Ba  \n",
       "19           0           0           0              Ba                  Ba  \n",
       "20           0           0           0               O                   C  \n",
       "21           0           0           0               O                   O  \n",
       "22           0           0           0               O                   C  \n",
       "23           0           0           0               O                   O  \n",
       "24           0           0           0               O                   C  \n",
       "25           0           0           0               O                   O  \n",
       "26           0           0           0               O                   C  \n",
       "27           0           0           0               O                   O  \n",
       "28           0           0           0               O                   C  \n",
       "29           0           0           0               O                   O  \n",
       "30           0           0           0               O                   C  \n",
       "31           0           0           0               O                   O  \n",
       "32           0           0           0               O                   C  \n",
       "33           0           0           0               O                   O  \n",
       "34           0           0           0               O                   C  \n",
       "35           0           0           0               O                   O  \n",
       "36           0           0           0               O                   C  \n",
       "37           0           0           0               O                   O  \n",
       "38           0           0           0               O                   C  \n",
       "39           0           0           0               O                   O  \n",
       "40           0           0           0               O                   C  \n",
       "41           0           0           0               O                   O  \n",
       "42           0           0           0               O                   C  \n",
       "43           0           0           0               O                   O  "
      ]
     },
     "execution_count": 16,
     "metadata": {},
     "output_type": "execute_result"
    }
   ],
   "source": [
    "from my_package.textfile2df import nnlist2df\n",
    "\n",
    "nnlist2df(POSCAR_nnlist='POSCAR.nnlist')"
   ]
  },
  {
   "cell_type": "markdown",
   "metadata": {},
   "source": [
    "### df_nnlistの内、central_atom => neighboring_atom のものを削除\n",
    "#### ∵central_atom < neighboring_atom ですでにクラスタとして選ばれているから"
   ]
  },
  {
   "cell_type": "markdown",
   "metadata": {},
   "source": [
    "### df_coords, df_nnlist --> df_coords_clustered\n",
    "##### 1. df_nnlist  -> df_nnlist_rm_duble（重複削除）\n",
    "##### 2. df_coords, clusterのfilter  -> df_coords_filterd（クラスタで絞った元の絶対座標）\n",
    "##### 3. df_nnlist, clusterのfilter  -> df_nnlist_meaned_filterd（クラスタの相対中心座標）\n",
    "##### 4. df_coords_filterd  ->  df_coords_filterd_2num （df要素の「数値化」）\n",
    "##### 5. df_nnlist_meaned_filterd + df_coords_filterd_2num -> df_coords_clusterd（クラスタ化された絶対座標）"
   ]
  },
  {
   "cell_type": "markdown",
   "metadata": {},
   "source": [
    "#### 1. df_nnlist  -> df_nnlist_rm_duble（重複削除）"
   ]
  },
  {
   "cell_type": "code",
   "execution_count": 17,
   "metadata": {
    "tags": []
   },
   "outputs": [],
   "source": [
    "df_nnlist = nnlist2df(POSCAR_nnlist='POSCAR.nnlist')"
   ]
  },
  {
   "cell_type": "code",
   "execution_count": 23,
   "metadata": {
    "tags": []
   },
   "outputs": [],
   "source": [
    "import pandas as pd\n",
    "def mk_rm_duble_filter(df_nnlist):\n",
    "    \n",
    "    df_nnlist_grouped = df_nnlist.groupby(by='central atom').mean()\n",
    "    # central atomカラムでgroupbyした後、index列(central atom)をカラムにする\n",
    "    df_nnlist_grouped = df_nnlist_grouped.reset_index()\n",
    "    \n",
    "    rm_duble_filter = df_nnlist_grouped['central atom'] <= df_nnlist_grouped['neighboring atom']\n",
    "    df_nnlist_rm_duble = df_nnlist_grouped[rm_duble_filter]\n",
    "    \n",
    "    rm_duble_filter = df_coords['central atom'].isin(df_nnlist_rm_duble['central atom'])\n",
    "    \n",
    "    return rm_duble_filter\n"
   ]
  },
  {
   "cell_type": "markdown",
   "metadata": {},
   "source": [
    "#### 2. クラスタ化された絶対中心座標をえる関数"
   ]
  },
  {
   "cell_type": "code",
   "execution_count": 24,
   "metadata": {
    "tags": []
   },
   "outputs": [],
   "source": [
    "# df_nnlistから重複削除（クラスタ化された絶対中心座標に絞る）\n",
    "def get_df_coords_filterd(df_nnlist):\n",
    "    rm_duble_filter = mk_rm_duble_filter(df_nnlist)\n",
    "    df_coords_filterd = df_coords[rm_duble_filter]\n",
    "\n",
    "    # 文字列を数値化する\n",
    "    df_coords_filterd['x'] = pd.to_numeric(df_coords_filterd['x'], errors='coerce')\n",
    "    df_coords_filterd['y'] = pd.to_numeric(df_coords_filterd['y'], errors='coerce')\n",
    "    df_coords_filterd['z'] = pd.to_numeric(df_coords_filterd['z'], errors='coerce')\n",
    "\n",
    "    return df_coords_filterd"
   ]
  },
  {
   "cell_type": "code",
   "execution_count": 25,
   "metadata": {
    "tags": []
   },
   "outputs": [
    {
     "name": "stderr",
     "output_type": "stream",
     "text": [
      "<ipython-input-23-e0581610b952>:4: FutureWarning: The default value of numeric_only in DataFrameGroupBy.mean is deprecated. In a future version, numeric_only will default to False. Either specify numeric_only or select only columns which should be valid for the function.\n",
      "  df_nnlist_grouped = df_nnlist.groupby(by='central atom').mean()\n",
      "<ipython-input-24-c7e56fcacf21>:7: SettingWithCopyWarning: \n",
      "A value is trying to be set on a copy of a slice from a DataFrame.\n",
      "Try using .loc[row_indexer,col_indexer] = value instead\n",
      "\n",
      "See the caveats in the documentation: https://pandas.pydata.org/pandas-docs/stable/user_guide/indexing.html#returning-a-view-versus-a-copy\n",
      "  df_coords_filterd['x'] = pd.to_numeric(df_coords_filterd['x'], errors='coerce')\n",
      "<ipython-input-24-c7e56fcacf21>:8: SettingWithCopyWarning: \n",
      "A value is trying to be set on a copy of a slice from a DataFrame.\n",
      "Try using .loc[row_indexer,col_indexer] = value instead\n",
      "\n",
      "See the caveats in the documentation: https://pandas.pydata.org/pandas-docs/stable/user_guide/indexing.html#returning-a-view-versus-a-copy\n",
      "  df_coords_filterd['y'] = pd.to_numeric(df_coords_filterd['y'], errors='coerce')\n",
      "<ipython-input-24-c7e56fcacf21>:9: SettingWithCopyWarning: \n",
      "A value is trying to be set on a copy of a slice from a DataFrame.\n",
      "Try using .loc[row_indexer,col_indexer] = value instead\n",
      "\n",
      "See the caveats in the documentation: https://pandas.pydata.org/pandas-docs/stable/user_guide/indexing.html#returning-a-view-versus-a-copy\n",
      "  df_coords_filterd['z'] = pd.to_numeric(df_coords_filterd['z'], errors='coerce')\n"
     ]
    },
    {
     "data": {
      "text/html": [
       "<div>\n",
       "<style scoped>\n",
       "    .dataframe tbody tr th:only-of-type {\n",
       "        vertical-align: middle;\n",
       "    }\n",
       "\n",
       "    .dataframe tbody tr th {\n",
       "        vertical-align: top;\n",
       "    }\n",
       "\n",
       "    .dataframe thead th {\n",
       "        text-align: right;\n",
       "    }\n",
       "</style>\n",
       "<table border=\"1\" class=\"dataframe\">\n",
       "  <thead>\n",
       "    <tr style=\"text-align: right;\">\n",
       "      <th></th>\n",
       "      <th>central atom</th>\n",
       "      <th>x</th>\n",
       "      <th>y</th>\n",
       "      <th>z</th>\n",
       "      <th>Species</th>\n",
       "    </tr>\n",
       "  </thead>\n",
       "  <tbody>\n",
       "    <tr>\n",
       "      <th>0</th>\n",
       "      <td>1</td>\n",
       "      <td>0.250000</td>\n",
       "      <td>0.757000</td>\n",
       "      <td>0.919000</td>\n",
       "      <td>C</td>\n",
       "    </tr>\n",
       "    <tr>\n",
       "      <th>1</th>\n",
       "      <td>2</td>\n",
       "      <td>0.250000</td>\n",
       "      <td>0.743000</td>\n",
       "      <td>0.419000</td>\n",
       "      <td>C</td>\n",
       "    </tr>\n",
       "    <tr>\n",
       "      <th>2</th>\n",
       "      <td>3</td>\n",
       "      <td>0.750000</td>\n",
       "      <td>0.243000</td>\n",
       "      <td>0.081000</td>\n",
       "      <td>C</td>\n",
       "    </tr>\n",
       "    <tr>\n",
       "      <th>3</th>\n",
       "      <td>4</td>\n",
       "      <td>0.750000</td>\n",
       "      <td>0.257000</td>\n",
       "      <td>0.581000</td>\n",
       "      <td>C</td>\n",
       "    </tr>\n",
       "    <tr>\n",
       "      <th>4</th>\n",
       "      <td>5</td>\n",
       "      <td>0.250000</td>\n",
       "      <td>0.416310</td>\n",
       "      <td>0.754900</td>\n",
       "      <td>Ba</td>\n",
       "    </tr>\n",
       "    <tr>\n",
       "      <th>5</th>\n",
       "      <td>6</td>\n",
       "      <td>0.250000</td>\n",
       "      <td>0.083690</td>\n",
       "      <td>0.254900</td>\n",
       "      <td>Ba</td>\n",
       "    </tr>\n",
       "    <tr>\n",
       "      <th>6</th>\n",
       "      <td>7</td>\n",
       "      <td>0.750000</td>\n",
       "      <td>0.583690</td>\n",
       "      <td>0.245100</td>\n",
       "      <td>Ba</td>\n",
       "    </tr>\n",
       "    <tr>\n",
       "      <th>7</th>\n",
       "      <td>8</td>\n",
       "      <td>0.750000</td>\n",
       "      <td>0.916310</td>\n",
       "      <td>0.745100</td>\n",
       "      <td>Ba</td>\n",
       "    </tr>\n",
       "  </tbody>\n",
       "</table>\n",
       "</div>"
      ],
      "text/plain": [
       "   central atom        x        y        z Species\n",
       "0             1 0.250000 0.757000 0.919000       C\n",
       "1             2 0.250000 0.743000 0.419000       C\n",
       "2             3 0.750000 0.243000 0.081000       C\n",
       "3             4 0.750000 0.257000 0.581000       C\n",
       "4             5 0.250000 0.416310 0.754900      Ba\n",
       "5             6 0.250000 0.083690 0.254900      Ba\n",
       "6             7 0.750000 0.583690 0.245100      Ba\n",
       "7             8 0.750000 0.916310 0.745100      Ba"
      ]
     },
     "execution_count": 25,
     "metadata": {},
     "output_type": "execute_result"
    }
   ],
   "source": [
    "df_coords_filterd = get_df_coords_filterd(df_nnlist)\n",
    "df_coords_filterd"
   ]
  },
  {
   "cell_type": "markdown",
   "metadata": {},
   "source": [
    "### クラスタ化された相対中心座標を計算する関数"
   ]
  },
  {
   "cell_type": "code",
   "execution_count": 26,
   "metadata": {
    "tags": []
   },
   "outputs": [],
   "source": [
    "def get_cluster_relative_center(df_nnlist, rm_duble_filter):\n",
    "    \"\"\"\n",
    "    Calculating relative center coordinates of cluster\n",
    "    param1: df_nnlist\n",
    "    \n",
    "    output: df_cluster_relative_center\n",
    "    \"\"\"\n",
    "    df_nnlist_grouped = df_nnlist.groupby(by='central atom').mean()\n",
    "    # central atomカラムでgroupbyした後、index列(central atom)をカラムにする\n",
    "    df_nnlist_grouped = df_nnlist_grouped.reset_index()\n",
    "    # 重複削除\n",
    "    df_cluster_relative_center = df_nnlist_grouped[rm_duble_filter]\n",
    "    \n",
    "    return df_cluster_relative_center"
   ]
  },
  {
   "cell_type": "code",
   "execution_count": 29,
   "metadata": {
    "tags": []
   },
   "outputs": [
    {
     "name": "stderr",
     "output_type": "stream",
     "text": [
      "<ipython-input-23-e0581610b952>:4: FutureWarning: The default value of numeric_only in DataFrameGroupBy.mean is deprecated. In a future version, numeric_only will default to False. Either specify numeric_only or select only columns which should be valid for the function.\n",
      "  df_nnlist_grouped = df_nnlist.groupby(by='central atom').mean()\n",
      "<ipython-input-26-746535058226>:8: FutureWarning: The default value of numeric_only in DataFrameGroupBy.mean is deprecated. In a future version, numeric_only will default to False. Either specify numeric_only or select only columns which should be valid for the function.\n",
      "  df_nnlist_grouped = df_nnlist.groupby(by='central atom').mean()\n"
     ]
    },
    {
     "data": {
      "text/html": [
       "<div>\n",
       "<style scoped>\n",
       "    .dataframe tbody tr th:only-of-type {\n",
       "        vertical-align: middle;\n",
       "    }\n",
       "\n",
       "    .dataframe tbody tr th {\n",
       "        vertical-align: top;\n",
       "    }\n",
       "\n",
       "    .dataframe thead th {\n",
       "        text-align: right;\n",
       "    }\n",
       "</style>\n",
       "<table border=\"1\" class=\"dataframe\">\n",
       "  <thead>\n",
       "    <tr style=\"text-align: right;\">\n",
       "      <th></th>\n",
       "      <th>central atom</th>\n",
       "      <th>neighboring atom</th>\n",
       "      <th>distance</th>\n",
       "      <th>X</th>\n",
       "      <th>Y</th>\n",
       "      <th>Z</th>\n",
       "      <th>unitcell_x</th>\n",
       "      <th>unitcell_y</th>\n",
       "      <th>unitcell_z</th>\n",
       "    </tr>\n",
       "  </thead>\n",
       "  <tbody>\n",
       "    <tr>\n",
       "      <th>0</th>\n",
       "      <td>1</td>\n",
       "      <td>9.750000</td>\n",
       "      <td>0.965207</td>\n",
       "      <td>0.000000</td>\n",
       "      <td>-0.004670</td>\n",
       "      <td>-0.004500</td>\n",
       "      <td>0.000000</td>\n",
       "      <td>0.000000</td>\n",
       "      <td>0.000000</td>\n",
       "    </tr>\n",
       "    <tr>\n",
       "      <th>1</th>\n",
       "      <td>2</td>\n",
       "      <td>10.750000</td>\n",
       "      <td>0.965207</td>\n",
       "      <td>0.000000</td>\n",
       "      <td>0.004670</td>\n",
       "      <td>-0.004500</td>\n",
       "      <td>0.000000</td>\n",
       "      <td>0.000000</td>\n",
       "      <td>0.000000</td>\n",
       "    </tr>\n",
       "    <tr>\n",
       "      <th>2</th>\n",
       "      <td>3</td>\n",
       "      <td>12.000000</td>\n",
       "      <td>0.965207</td>\n",
       "      <td>0.000000</td>\n",
       "      <td>0.004670</td>\n",
       "      <td>0.004500</td>\n",
       "      <td>0.000000</td>\n",
       "      <td>0.000000</td>\n",
       "      <td>0.000000</td>\n",
       "    </tr>\n",
       "    <tr>\n",
       "      <th>3</th>\n",
       "      <td>4</td>\n",
       "      <td>13.500000</td>\n",
       "      <td>0.965207</td>\n",
       "      <td>0.000000</td>\n",
       "      <td>-0.004670</td>\n",
       "      <td>0.004500</td>\n",
       "      <td>0.000000</td>\n",
       "      <td>0.000000</td>\n",
       "      <td>0.000000</td>\n",
       "    </tr>\n",
       "    <tr>\n",
       "      <th>4</th>\n",
       "      <td>5</td>\n",
       "      <td>5.000000</td>\n",
       "      <td>0.000000</td>\n",
       "      <td>0.000000</td>\n",
       "      <td>0.000000</td>\n",
       "      <td>0.000000</td>\n",
       "      <td>0.000000</td>\n",
       "      <td>0.000000</td>\n",
       "      <td>0.000000</td>\n",
       "    </tr>\n",
       "    <tr>\n",
       "      <th>5</th>\n",
       "      <td>6</td>\n",
       "      <td>6.000000</td>\n",
       "      <td>0.000000</td>\n",
       "      <td>0.000000</td>\n",
       "      <td>0.000000</td>\n",
       "      <td>0.000000</td>\n",
       "      <td>0.000000</td>\n",
       "      <td>0.000000</td>\n",
       "      <td>0.000000</td>\n",
       "    </tr>\n",
       "    <tr>\n",
       "      <th>6</th>\n",
       "      <td>7</td>\n",
       "      <td>7.000000</td>\n",
       "      <td>0.000000</td>\n",
       "      <td>0.000000</td>\n",
       "      <td>0.000000</td>\n",
       "      <td>0.000000</td>\n",
       "      <td>0.000000</td>\n",
       "      <td>0.000000</td>\n",
       "      <td>0.000000</td>\n",
       "    </tr>\n",
       "    <tr>\n",
       "      <th>7</th>\n",
       "      <td>8</td>\n",
       "      <td>8.000000</td>\n",
       "      <td>0.000000</td>\n",
       "      <td>0.000000</td>\n",
       "      <td>0.000000</td>\n",
       "      <td>0.000000</td>\n",
       "      <td>0.000000</td>\n",
       "      <td>0.000000</td>\n",
       "      <td>0.000000</td>\n",
       "    </tr>\n",
       "  </tbody>\n",
       "</table>\n",
       "</div>"
      ],
      "text/plain": [
       "   central atom  neighboring atom  distance        X         Y         Z  \\\n",
       "0             1          9.750000  0.965207 0.000000 -0.004670 -0.004500   \n",
       "1             2         10.750000  0.965207 0.000000  0.004670 -0.004500   \n",
       "2             3         12.000000  0.965207 0.000000  0.004670  0.004500   \n",
       "3             4         13.500000  0.965207 0.000000 -0.004670  0.004500   \n",
       "4             5          5.000000  0.000000 0.000000  0.000000  0.000000   \n",
       "5             6          6.000000  0.000000 0.000000  0.000000  0.000000   \n",
       "6             7          7.000000  0.000000 0.000000  0.000000  0.000000   \n",
       "7             8          8.000000  0.000000 0.000000  0.000000  0.000000   \n",
       "\n",
       "   unitcell_x  unitcell_y  unitcell_z  \n",
       "0    0.000000    0.000000    0.000000  \n",
       "1    0.000000    0.000000    0.000000  \n",
       "2    0.000000    0.000000    0.000000  \n",
       "3    0.000000    0.000000    0.000000  \n",
       "4    0.000000    0.000000    0.000000  \n",
       "5    0.000000    0.000000    0.000000  \n",
       "6    0.000000    0.000000    0.000000  \n",
       "7    0.000000    0.000000    0.000000  "
      ]
     },
     "execution_count": 29,
     "metadata": {},
     "output_type": "execute_result"
    }
   ],
   "source": [
    "df_cluster_relative_center = get_cluster_relative_center(df_nnlist, mk_rm_duble_filter(df_nnlist))\n",
    "df_cluster_relative_center"
   ]
  },
  {
   "cell_type": "markdown",
   "metadata": {},
   "source": [
    "### = 元のPOSCARファイルのdf + nnlistで得たクラスタ相対中心座標"
   ]
  },
  {
   "cell_type": "code",
   "execution_count": 30,
   "metadata": {
    "tags": []
   },
   "outputs": [],
   "source": [
    "def get_clusterd_coords(df_abs=df_coords_filterd, df_relative=df_cluster_relative_center):\n",
    "    df_coords_x = df_abs['x'] + df_relative['X']\n",
    "    df_coords_y = df_abs['y'] + df_relative['Y']\n",
    "    df_coords_z = df_abs['z'] + df_relative['Z']\n",
    "    df_coords_species = df_abs['Species']\n",
    "\n",
    "    # カラム名を指定してデータフレームを作成\n",
    "    df_coords_fix = pd.DataFrame({\n",
    "        'X': df_coords_x,\n",
    "        'Y': df_coords_y,\n",
    "        'Z': df_coords_z,\n",
    "        'Species': df_coords_species,\n",
    "    })\n",
    "\n",
    "    return df_coords_fix"
   ]
  },
  {
   "cell_type": "code",
   "execution_count": 31,
   "metadata": {
    "tags": []
   },
   "outputs": [
    {
     "data": {
      "text/html": [
       "<div>\n",
       "<style scoped>\n",
       "    .dataframe tbody tr th:only-of-type {\n",
       "        vertical-align: middle;\n",
       "    }\n",
       "\n",
       "    .dataframe tbody tr th {\n",
       "        vertical-align: top;\n",
       "    }\n",
       "\n",
       "    .dataframe thead th {\n",
       "        text-align: right;\n",
       "    }\n",
       "</style>\n",
       "<table border=\"1\" class=\"dataframe\">\n",
       "  <thead>\n",
       "    <tr style=\"text-align: right;\">\n",
       "      <th></th>\n",
       "      <th>X</th>\n",
       "      <th>Y</th>\n",
       "      <th>Z</th>\n",
       "      <th>Species</th>\n",
       "    </tr>\n",
       "  </thead>\n",
       "  <tbody>\n",
       "    <tr>\n",
       "      <th>0</th>\n",
       "      <td>0.250000</td>\n",
       "      <td>0.752330</td>\n",
       "      <td>0.914500</td>\n",
       "      <td>C</td>\n",
       "    </tr>\n",
       "    <tr>\n",
       "      <th>1</th>\n",
       "      <td>0.250000</td>\n",
       "      <td>0.747670</td>\n",
       "      <td>0.414500</td>\n",
       "      <td>C</td>\n",
       "    </tr>\n",
       "    <tr>\n",
       "      <th>2</th>\n",
       "      <td>0.750000</td>\n",
       "      <td>0.247670</td>\n",
       "      <td>0.085500</td>\n",
       "      <td>C</td>\n",
       "    </tr>\n",
       "    <tr>\n",
       "      <th>3</th>\n",
       "      <td>0.750000</td>\n",
       "      <td>0.252330</td>\n",
       "      <td>0.585500</td>\n",
       "      <td>C</td>\n",
       "    </tr>\n",
       "    <tr>\n",
       "      <th>4</th>\n",
       "      <td>0.250000</td>\n",
       "      <td>0.416310</td>\n",
       "      <td>0.754900</td>\n",
       "      <td>Ba</td>\n",
       "    </tr>\n",
       "    <tr>\n",
       "      <th>5</th>\n",
       "      <td>0.250000</td>\n",
       "      <td>0.083690</td>\n",
       "      <td>0.254900</td>\n",
       "      <td>Ba</td>\n",
       "    </tr>\n",
       "    <tr>\n",
       "      <th>6</th>\n",
       "      <td>0.750000</td>\n",
       "      <td>0.583690</td>\n",
       "      <td>0.245100</td>\n",
       "      <td>Ba</td>\n",
       "    </tr>\n",
       "    <tr>\n",
       "      <th>7</th>\n",
       "      <td>0.750000</td>\n",
       "      <td>0.916310</td>\n",
       "      <td>0.745100</td>\n",
       "      <td>Ba</td>\n",
       "    </tr>\n",
       "  </tbody>\n",
       "</table>\n",
       "</div>"
      ],
      "text/plain": [
       "         X        Y        Z Species\n",
       "0 0.250000 0.752330 0.914500       C\n",
       "1 0.250000 0.747670 0.414500       C\n",
       "2 0.750000 0.247670 0.085500       C\n",
       "3 0.750000 0.252330 0.585500       C\n",
       "4 0.250000 0.416310 0.754900      Ba\n",
       "5 0.250000 0.083690 0.254900      Ba\n",
       "6 0.750000 0.583690 0.245100      Ba\n",
       "7 0.750000 0.916310 0.745100      Ba"
      ]
     },
     "execution_count": 31,
     "metadata": {},
     "output_type": "execute_result"
    }
   ],
   "source": [
    "df_coords_fix = get_clusterd_coords(df_abs=df_coords_filterd, df_relative=df_cluster_relative_center)\n",
    "df_coords_fix"
   ]
  },
  {
   "cell_type": "markdown",
   "metadata": {},
   "source": [
    "### def return_species(df)"
   ]
  },
  {
   "cell_type": "code",
   "execution_count": 55,
   "metadata": {},
   "outputs": [
    {
     "data": {
      "text/plain": [
       "['C', 'Ba']"
      ]
     },
     "execution_count": 55,
     "metadata": {},
     "output_type": "execute_result"
    }
   ],
   "source": [
    "[i for i in df_coords_fix['Species'].unique()]"
   ]
  },
  {
   "cell_type": "code",
   "execution_count": 80,
   "metadata": {},
   "outputs": [
    {
     "data": {
      "text/plain": [
       "array(['C', 'Ba'], dtype=object)"
      ]
     },
     "execution_count": 80,
     "metadata": {},
     "output_type": "execute_result"
    }
   ],
   "source": [
    "df_coords_fix['Species'].unique()"
   ]
  },
  {
   "cell_type": "code",
   "execution_count": 82,
   "metadata": {},
   "outputs": [
    {
     "data": {
      "text/plain": [
       "'C  Ba'"
      ]
     },
     "execution_count": 82,
     "metadata": {},
     "output_type": "execute_result"
    }
   ],
   "source": [
    "'  '.join(df_coords_fix['Species'].unique())"
   ]
  },
  {
   "cell_type": "code",
   "execution_count": 91,
   "metadata": {},
   "outputs": [
    {
     "data": {
      "text/plain": [
       "[4, 4]"
      ]
     },
     "execution_count": 91,
     "metadata": {},
     "output_type": "execute_result"
    }
   ],
   "source": [
    "[len(df_coords_fix[df_coords_fix['Species'] == specie]) for specie in df_coords_fix['Species'].unique()]"
   ]
  },
  {
   "cell_type": "code",
   "execution_count": 94,
   "metadata": {},
   "outputs": [
    {
     "data": {
      "text/plain": [
       "['4', '4']"
      ]
     },
     "execution_count": 94,
     "metadata": {},
     "output_type": "execute_result"
    }
   ],
   "source": [
    "[str(len(df_coords_fix[df_coords_fix['Species'] == specie])) for specie in df_coords_fix['Species'].unique()]"
   ]
  },
  {
   "cell_type": "code",
   "execution_count": 95,
   "metadata": {},
   "outputs": [
    {
     "data": {
      "text/plain": [
       "'4  4'"
      ]
     },
     "execution_count": 95,
     "metadata": {},
     "output_type": "execute_result"
    }
   ],
   "source": [
    "'  '.join([str(len(df_coords_fix[df_coords_fix['Species'] == specie])) for specie in df_coords_fix['Species'].unique()])"
   ]
  },
  {
   "cell_type": "code",
   "execution_count": 96,
   "metadata": {},
   "outputs": [],
   "source": [
    "species_line = '  '.join(df_coords_fix['Species'].unique())\n",
    "num_line = '  '.join([str(len(df_coords_fix[df_coords_fix['Species'] == specie])) for specie in df_coords_fix['Species'].unique()])"
   ]
  },
  {
   "cell_type": "code",
   "execution_count": 99,
   "metadata": {},
   "outputs": [
    {
     "name": "stdout",
     "output_type": "stream",
     "text": [
      "C  Ba\n"
     ]
    }
   ],
   "source": [
    "print(species_line)"
   ]
  },
  {
   "cell_type": "code",
   "execution_count": 100,
   "metadata": {},
   "outputs": [
    {
     "name": "stdout",
     "output_type": "stream",
     "text": [
      "4  4\n"
     ]
    }
   ],
   "source": [
    "print(num_line)"
   ]
  },
  {
   "cell_type": "code",
   "execution_count": 101,
   "metadata": {},
   "outputs": [
    {
     "data": {
      "text/plain": [
       "'C  Ba\\n4  4'"
      ]
     },
     "execution_count": 101,
     "metadata": {},
     "output_type": "execute_result"
    }
   ],
   "source": [
    "species_line + '\\n' + num_line"
   ]
  },
  {
   "cell_type": "code",
   "execution_count": 102,
   "metadata": {},
   "outputs": [],
   "source": [
    "with open('write_test.txt', mode='a+') as f:\n",
    "    f.write(species_line + '\\n' + num_line)"
   ]
  },
  {
   "cell_type": "code",
   "execution_count": null,
   "metadata": {},
   "outputs": [],
   "source": []
  },
  {
   "cell_type": "markdown",
   "metadata": {},
   "source": [
    "### 元素種とその数のファイル書き込みのテスト"
   ]
  },
  {
   "cell_type": "code",
   "execution_count": 121,
   "metadata": {},
   "outputs": [],
   "source": [
    "# df_coords_fixから元素種を文字列として抽出する関数\n",
    "def return_species(df):\n",
    "    species_line = ' '.join(df['Species'].unique())\n",
    "    num_line = ' '.join([str(len(df[df['Species'] == specie])) for specie in df['Species'].unique()])\n",
    "    return species_line + '\\n' + num_line\n"
   ]
  },
  {
   "cell_type": "code",
   "execution_count": 122,
   "metadata": {},
   "outputs": [
    {
     "data": {
      "text/plain": [
       "'C Ba O\\n4 4 12'"
      ]
     },
     "execution_count": 122,
     "metadata": {},
     "output_type": "execute_result"
    }
   ],
   "source": [
    "return_species(df_coords)"
   ]
  },
  {
   "cell_type": "code",
   "execution_count": 124,
   "metadata": {},
   "outputs": [],
   "source": [
    "with open('write_test.txt', mode='w+') as f:\n",
    "    f.write(return_species(df_coords))"
   ]
  },
  {
   "cell_type": "code",
   "execution_count": null,
   "metadata": {},
   "outputs": [],
   "source": []
  },
  {
   "cell_type": "markdown",
   "metadata": {},
   "source": [
    "### 元のPOSCARファイルから5行目までを抽出して、新しいPOSCARファイルに書き込む関数"
   ]
  },
  {
   "cell_type": "code",
   "execution_count": 114,
   "metadata": {
    "tags": []
   },
   "outputs": [],
   "source": [
    "def df2poscar(df=df_coords_fix, original_file=\"./POSCAR\", output_file=\"gen_data/POSCAR\"):\n",
    "    \"\"\"\n",
    "    Writing the DataFrame(:df_coords_fix) to a POSCAR file.\n",
    "    param1: DataFrame that has 'X', 'Y', 'Z' columns about coords.\n",
    "    param2: original POSCAR file\n",
    "    param3: generated POSCAR file\n",
    "    \"\"\"\n",
    "    \n",
    "    # df_coords_fixを文字列に変換\n",
    "    def df2str(df):\n",
    "        df_coords_fix_str = df[['X', 'Y', 'Z']].to_string(header=False, index=False, index_names=False)\n",
    "        return df_coords_fix_str\n",
    "\n",
    "    \n",
    "    # df_coords_fixから元素種を文字列として抽出する関数\n",
    "    def return_species(df):\n",
    "        species_line = ' '.join(df['Species'].unique())\n",
    "        num_line = ' '.join([str(len(df[df['Species'] == specie])) for specie in df['Species'].unique()])\n",
    "        return species_line + '\\n' + num_line\n",
    "\n",
    "    \n",
    "    # 元のPOSCARファイルの5行目までを抽出し，新しいファイルに書き込む\n",
    "    def wirte_header2poscar():\n",
    "        # 最初の5行を抽出\n",
    "        with open(original_file, 'r') as infile:\n",
    "            lines = infile.readlines()[:5]\n",
    "        # 新しいPOSCARファイルに書き込む\n",
    "        with open(output_file, 'w') as outfile:\n",
    "            outfile.writelines(lines)\n",
    "    \n",
    "    \n",
    "    # 新しいPOSCARファイルに書き込んでいく\n",
    "    def write_species2poscar():\n",
    "        with open(output_file, 'a') as file:\n",
    "            # すでに存在するテキストファイルに元素種を追記\n",
    "            file.write(return_species(df) + '\\n')\n",
    "            # 元素種まで書かれたファイルにDirectという文字をを追記\n",
    "            file.write('Direct\\n')\n",
    "            # 直交座標を追記\n",
    "            file.write(df_coords_fix_str + '\\n')\n",
    "\n",
    "            \n",
    "    # 関数をcall\n",
    "    df_coords_fix_str = df2str(df)\n",
    "    wirte_header2poscar()\n",
    "    write_species2poscar()\n",
    "    \n",
    "    print(f\"{output_file} にクラスタ化後の内容が書き込まれました。\")"
   ]
  },
  {
   "cell_type": "code",
   "execution_count": 115,
   "metadata": {
    "tags": []
   },
   "outputs": [
    {
     "name": "stdout",
     "output_type": "stream",
     "text": [
      "gen_data/POSCAR にクラスタ化後の内容が書き込まれました。\n"
     ]
    }
   ],
   "source": [
    "df2poscar(df=df_coords_fix)"
   ]
  },
  {
   "cell_type": "markdown",
   "metadata": {},
   "source": [
    "#### 編集後のposcarファイルをASEで可視化"
   ]
  },
  {
   "cell_type": "code",
   "execution_count": 36,
   "metadata": {
    "tags": []
   },
   "outputs": [
    {
     "data": {
      "application/vnd.jupyter.widget-view+json": {
       "model_id": "e7f289bfd877433ab73d242e74a5f80e",
       "version_major": 2,
       "version_minor": 0
      },
      "text/plain": [
       "HBox(children=(NGLWidget(), VBox(children=(Dropdown(description='Show', options=('All', 'Ba', 'C'), value='All…"
      ]
     },
     "execution_count": 36,
     "metadata": {},
     "output_type": "execute_result"
    }
   ],
   "source": [
    "from ase.io import read, write\n",
    "\n",
    "output_file=\"gen_data/POSCAR\"\n",
    "# POSCARファイルの読み込み\n",
    "atoms = read(output_file)\n",
    "\n",
    "# POSCARファイルの描画\n",
    "from ase.visualize import view, ngl\n",
    "ngl.view_ngl(atoms)"
   ]
  },
  {
   "cell_type": "markdown",
   "metadata": {},
   "source": [
    "### 編集後のPOSCARファイルをVESTAで可視化"
   ]
  },
  {
   "cell_type": "code",
   "execution_count": 116,
   "metadata": {
    "tags": []
   },
   "outputs": [],
   "source": [
    "from my_package import visualize\n",
    "POSCAR = './gen_data//POSCAR'\n",
    "visualize.vesta(POSCAR)"
   ]
  }
 ],
 "metadata": {
  "kernelspec": {
   "display_name": "Python 3",
   "language": "python",
   "name": "python3"
  },
  "language_info": {
   "codemirror_mode": {
    "name": "ipython",
    "version": 3
   },
   "file_extension": ".py",
   "mimetype": "text/x-python",
   "name": "python",
   "nbconvert_exporter": "python",
   "pygments_lexer": "ipython3",
   "version": "3.8.10"
  }
 },
 "nbformat": 4,
 "nbformat_minor": 4
}
